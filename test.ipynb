{
 "cells": [
  {
   "cell_type": "code",
   "execution_count": 1,
   "metadata": {},
   "outputs": [
    {
     "ename": "NameError",
     "evalue": "name 'proxy' is not defined",
     "output_type": "error",
     "traceback": [
      "\u001b[0;31m---------------------------------------------------------------------------\u001b[0m",
      "\u001b[0;31mNameError\u001b[0m                                 Traceback (most recent call last)",
      "Cell \u001b[0;32mIn[1], line 1\u001b[0m\n\u001b[0;32m----> 1\u001b[0m \u001b[39mif\u001b[39;00m proxy:\n\u001b[1;32m      2\u001b[0m     os\u001b[39m.\u001b[39menviron[\u001b[39m\"\u001b[39m\u001b[39mHTTP_PROXY\u001b[39m\u001b[39m\"\u001b[39m] \u001b[39m=\u001b[39m \u001b[39m\"\u001b[39m\u001b[39mhttp://localhost:7890\u001b[39m\u001b[39m\"\u001b[39m\n\u001b[1;32m      3\u001b[0m     os\u001b[39m.\u001b[39menviron[\u001b[39m\"\u001b[39m\u001b[39mHTTPS_PROXY\u001b[39m\u001b[39m\"\u001b[39m] \u001b[39m=\u001b[39m \u001b[39m\"\u001b[39m\u001b[39mhttp://localhost:7890\u001b[39m\u001b[39m\"\u001b[39m\n",
      "\u001b[0;31mNameError\u001b[0m: name 'proxy' is not defined"
     ]
    }
   ],
   "source": [
    "proxy = True\n",
    "split = \"train\"\n",
    "import os \n",
    "from datasets import load_dataset\n",
    "\n",
    "if proxy:\n",
    "    os.environ[\"HTTP_PROXY\"] = \"http://localhost:7890\"\n",
    "    os.environ[\"HTTPS_PROXY\"] = \"http://localhost:7890\"\n",
    "else:\n",
    "    os.environ[\"HTTP_PROXY\"] = \"\"\n",
    "    os.environ[\"HTTPS_PROXY\"] = \"\"\n",
    "    del os.environ[\"HTTP_PROXY\"]\n",
    "    del os.environ[\"HTTPS_PROXY\"]\n",
    "\n",
    "if split == \"train\":\n",
    "    data = load_dataset(\n",
    "        \"allenai/c4\",\n",
    "        # data_files={\"train\": \"en/c4-train.00000-of-01024.json.gz\"},\n",
    "        data_files={\"train\": \"multilingual/c4-af.tfrecord-00000-of-00064.json.gz\"},\n",
    "        split=\"train\",\n",
    "    )\n",
    "elif split == \"validation\":\n",
    "    data = load_dataset(\n",
    "        \"allenai/c4\",\n",
    "        data_files={\"validation\": \"en/c4-validation.00000-of-00008.json.gz\"},\n",
    "        split=\"validation\",\n",
    "    )"
   ]
  },
  {
   "cell_type": "code",
   "execution_count": null,
   "metadata": {},
   "outputs": [],
   "source": []
  }
 ],
 "metadata": {
  "kernelspec": {
   "display_name": "pt2",
   "language": "python",
   "name": "python3"
  },
  "language_info": {
   "codemirror_mode": {
    "name": "ipython",
    "version": 3
   },
   "file_extension": ".py",
   "mimetype": "text/x-python",
   "name": "python",
   "nbconvert_exporter": "python",
   "pygments_lexer": "ipython3",
   "version": "3.10.11"
  },
  "orig_nbformat": 4
 },
 "nbformat": 4,
 "nbformat_minor": 2
}
